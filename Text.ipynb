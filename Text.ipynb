{
 "cells": [
  {
   "cell_type": "code",
   "execution_count": 1,
   "metadata": {
    "collapsed": false
   },
   "outputs": [
    {
     "ename": "ImportError",
     "evalue": "No module named TwitterAPI",
     "output_type": "error",
     "traceback": [
      "\u001b[0;31m---------------------------------------------------------------------------\u001b[0m",
      "\u001b[0;31mImportError\u001b[0m                               Traceback (most recent call last)",
      "\u001b[0;32m<ipython-input-1-1484b10f94cb>\u001b[0m in \u001b[0;36m<module>\u001b[0;34m()\u001b[0m\n\u001b[0;32m----> 1\u001b[0;31m \u001b[0;32mfrom\u001b[0m \u001b[0mTwitterAPI\u001b[0m \u001b[0;32mimport\u001b[0m \u001b[0mTwitterAPI\u001b[0m\u001b[0;34m\u001b[0m\u001b[0m\n\u001b[0m\u001b[1;32m      2\u001b[0m \u001b[0;32mimport\u001b[0m \u001b[0mjson\u001b[0m\u001b[0;34m\u001b[0m\u001b[0m\n\u001b[1;32m      3\u001b[0m \u001b[0;32mimport\u001b[0m \u001b[0mtwitter\u001b[0m\u001b[0;34m\u001b[0m\u001b[0m\n\u001b[1;32m      4\u001b[0m \u001b[0;34m\u001b[0m\u001b[0m\n\u001b[1;32m      5\u001b[0m \u001b[0;34m\u001b[0m\u001b[0m\n",
      "\u001b[0;31mImportError\u001b[0m: No module named TwitterAPI"
     ]
    }
   ],
   "source": [
    "from TwitterAPI import TwitterAPI\n",
    "import json\n",
    "import twitter\n",
    "\n",
    "\n",
    "\n",
    "# Authorization\n",
    "CONSUMER_KEY = 'IZDwVjCfCnJjxIuggunDJxJom'\n",
    "CONSUMER_SECRET = 'z2ZKVV0CnQpsShj48JOZbGedoRviDMrIGcb9eV74foKrmdGPEL'\n",
    "ACCESS_TOKEN_KEY = '771636955041804288-if5bTd39lfygmHYUvu9Rasd8dto1UwA'\n",
    "ACCESS_TOKEN_SECRET = '4VfUZ9Lhl2OQ3jGYmzJMMz0wlfuyzD4n0RBlM3P8QZMv9'\n",
    "\n",
    "\n",
    "auth = twitter.oauth.OAuth(ACCESS_TOKEN_KEY, ACCESS_TOKEN_SECRET, CONSUMER_KEY, CONSUMER_SECRET)\n",
    "twitter_api = twitter.Twitter(auth=auth)\n",
    "\n",
    "# Searching for tweets...\n",
    "SEARCH_TERM = 'italian cuisine'\n",
    "count= 100\n",
    "\n",
    "results = twitter_api.search.tweets(q = SEARCH_TERM, count = count )\n",
    "statuses = results['statuses']\n",
    "\n",
    "for _ in range(5):\n",
    "    print \"Length of statuses\", len(statuses)\n",
    "    try:\n",
    "        next_results = results['search_metadata']['next_results']\n",
    "    except KeyError, e: # No more results when next_results doesn't exist\n",
    "        break\n",
    "        \n",
    "# Create a dictionary from next_results, which has the following form:\n",
    "\n",
    "kwargs = dict([ kv.split('=') for kv in next_results[1:].split(\"&\") ])\n",
    "results = twitter_api.search.tweets(**kwargs)\n",
    "statuses += results['statuses']\n",
    "# Show one sample search result by slicing the list...\n",
    "for i in range(100):\n",
    "    print json.dumps(statuses[i]['text'], indent=1)\n",
    "        "
   ]
  },
  {
   "cell_type": "code",
   "execution_count": null,
   "metadata": {
    "collapsed": true
   },
   "outputs": [],
   "source": []
  }
 ],
 "metadata": {
  "anaconda-cloud": {},
  "kernelspec": {
   "display_name": "Python [default]",
   "language": "python",
   "name": "python2"
  },
  "language_info": {
   "codemirror_mode": {
    "name": "ipython",
    "version": 2
   },
   "file_extension": ".py",
   "mimetype": "text/x-python",
   "name": "python",
   "nbconvert_exporter": "python",
   "pygments_lexer": "ipython2",
   "version": "2.7.12"
  }
 },
 "nbformat": 4,
 "nbformat_minor": 1
}
