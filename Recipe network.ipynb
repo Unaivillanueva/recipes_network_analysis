{
 "cells": [
  {
   "cell_type": "markdown",
   "metadata": {},
   "source": [
    "# Introduction\n",
    "\n",
    "Our dataset consists of a JSON file with a list of recipes. Each recipe contains an id, the cuisine it belongs to, and a list of ingredients. The first steps of our analysis involve loading the dataset and creating some python objects to explore it."
   ]
  },
  {
   "cell_type": "code",
   "execution_count": 1,
   "metadata": {
    "collapsed": false
   },
   "outputs": [],
   "source": [
    "import json\n",
    "import io\n",
    "\n",
    "trainfile = io.open('train.json')\n",
    "traindata = json.load(trainfile)"
   ]
  },
  {
   "cell_type": "code",
   "execution_count": 2,
   "metadata": {
    "collapsed": false
   },
   "outputs": [
    {
     "name": "stdout",
     "output_type": "stream",
     "text": [
      "The dataset contains information on 39774 recipes.\n"
     ]
    }
   ],
   "source": [
    "print \"The dataset contains information on %d recipes.\" % len(traindata)"
   ]
  },
  {
   "cell_type": "code",
   "execution_count": 3,
   "metadata": {
    "collapsed": false
   },
   "outputs": [
    {
     "name": "stdout",
     "output_type": "stream",
     "text": [
      "{u'cuisine': u'southern_us', u'id': 25693, u'ingredients': [u'plain flour', u'ground pepper', u'salt', u'tomatoes', u'ground black pepper', u'thyme', u'eggs', u'green tomatoes', u'yellow corn meal', u'milk', u'vegetable oil']}\n"
     ]
    }
   ],
   "source": [
    "# build dict of recipes: id -> recipe {id, cuisine, ingredients}\n",
    "recipes = dict((x['id'], x) for x in traindata[:1000])\n",
    "\n",
    "# This way we can access by recipe id\n",
    "print recipes[25693]"
   ]
  },
  {
   "cell_type": "markdown",
   "metadata": {},
   "source": [
    "We build a set of all the **ingredients** contained in the dataset."
   ]
  },
  {
   "cell_type": "code",
   "execution_count": 4,
   "metadata": {
    "collapsed": false
   },
   "outputs": [
    {
     "name": "stdout",
     "output_type": "stream",
     "text": [
      "There are 1817 different ingredients (before cleaning)\n",
      " - salt is an ingredient of the dataset\n",
      " - brain is NOT an ingredient of the dataset\n",
      " - eggs is an ingredient of the dataset\n",
      " - white pepper is an ingredient of the dataset\n",
      " - black pepper is an ingredient of the dataset\n"
     ]
    }
   ],
   "source": [
    "# Build set of ingredients\n",
    "ingredients_set = set(x for r in recipes.values() for x in r['ingredients'])\n",
    "\n",
    "print \"There are %d different ingredients (before cleaning)\" % len(ingredients_set)\n",
    "\n",
    "ing = ['salt', 'brain', 'eggs', 'white pepper', 'black pepper']\n",
    "\n",
    "for i in ing:\n",
    "    b = 'NOT ' if not i in ingredients_set else ''\n",
    "    print \" - %s is %san ingredient of the dataset\" % (i, b)"
   ]
  },
  {
   "cell_type": "markdown",
   "metadata": {},
   "source": [
    "As we see in the previous examples, the ingredients have many different forms: singular, plural, more generic or more detailed. In order to make them more 'homogeneus', we'll clean them all. The goal is to group ingredients that are written differently but are actually the same. So we'll convert them to lowercase, remove symbols and lemmatize them (make all the words singular)."
   ]
  },
  {
   "cell_type": "code",
   "execution_count": 5,
   "metadata": {
    "collapsed": false
   },
   "outputs": [],
   "source": [
    "def clean_ingredient(ingredient, stemmer):\n",
    "    \n",
    "    ingredient = ingredient.lower()\n",
    "    \n",
    "    def remove_symbols(c):\n",
    "        return c.replace('\\'', '').replace('\\\\', '').replace(',','') \\\n",
    "                .replace('&', '').replace('(', '').replace(')','')   \\\n",
    "                .replace('.', '').replace('%', '').replace('/','')   \\\n",
    "                .replace('\"', '')\n",
    "    \n",
    "    ingredient = remove_symbols(ingredient)\n",
    "    \n",
    "    ingredient = ' '.join([stemmer.lemmatize(w) for w in ingredient.split(' ')])\n",
    "    \n",
    "    return ingredient"
   ]
  },
  {
   "cell_type": "code",
   "execution_count": 6,
   "metadata": {
    "collapsed": false,
    "scrolled": true
   },
   "outputs": [
    {
     "name": "stdout",
     "output_type": "stream",
     "text": [
      "Blanched Almonds\n",
      "blanched almond\n",
      "\n",
      "The \"chicken problem\": lower sodium chicken broth, chicken broth, chicken, fat free less sodium chicken broth, reduced sodium chicken broth, chicken broth, bone-in chicken breast halves, chicken drumsticks, chicken broth...\n"
     ]
    }
   ],
   "source": [
    "from nltk.stem import WordNetLemmatizer\n",
    "\n",
    "stemmer = WordNetLemmatizer()\n",
    "\n",
    "i = 'Blanched Almonds'\n",
    "print i\n",
    "print clean_ingredient(i, stemmer)\n",
    "\n",
    "print '\\nThe \"chicken problem\": '+', '.join([x for r in recipes.values() for x in r['ingredients']  if 'chicken' in x][:9])+'...'\n"
   ]
  },
  {
   "cell_type": "code",
   "execution_count": 7,
   "metadata": {
    "collapsed": false
   },
   "outputs": [],
   "source": [
    "# We 'clean' all the ingredients\n",
    "\n",
    "clean_ingredients_set = set()\n",
    "\n",
    "for r in recipes.values():\n",
    "    for ing in r['ingredients']:\n",
    "        clean_ingredients_set.add(clean_ingredient(ing, stemmer))"
   ]
  },
  {
   "cell_type": "code",
   "execution_count": 8,
   "metadata": {
    "collapsed": false
   },
   "outputs": [
    {
     "name": "stdout",
     "output_type": "stream",
     "text": [
      "There are 1817 different ingredients (after cleaning)\n"
     ]
    }
   ],
   "source": [
    "clean_ingredients_set = set(x for r in recipes.values() for x in r['ingredients'])\n",
    "\n",
    "print \"There are %d different ingredients (after cleaning)\" % len(ingredients_set)"
   ]
  },
  {
   "cell_type": "markdown",
   "metadata": {},
   "source": [
    "We see that **we didn't really _remove_ any duplicated ingredient!** After all, it seems that the cleaning wasn't worth it. We will work with the original ingredients. Another cleaning step we were planning to do was more complex: merge synonims or very similar ingredients. For example, we could consider that _boneless chicken_ and _boneless chicken breast_ are the same. \n",
    "\n",
    "In order to achieve this extra homogeinity, we tried to apply some NLP with ideas like removing adjectives. However the results were not near satisfactory. It's not simple to decide algorithmically what pairs of ingredients are to be considered the same one and what are _different_ enough to not be merged into one, since that is a a subjective measure. For example, one could argue that it's better to keep _white pepper_ and _black pepper_ as different ingredients. Maybe they are representatives of two different cuisines and merging them would limit the accuracy of our analysis."
   ]
  },
  {
   "cell_type": "markdown",
   "metadata": {},
   "source": [
    "# Creating the network\n",
    "\n",
    "Next step: create the network! As explained in the introductory video, the graph we create is a weighted graph.\n",
    "\n",
    "Every ingredient is a node. Two nodes are connected if there is a recipe that uses both of them. The weight of an edge is the number of recipes shared by its two nodes."
   ]
  },
  {
   "cell_type": "code",
   "execution_count": 9,
   "metadata": {
    "collapsed": false
   },
   "outputs": [],
   "source": [
    "import networkx as nx\n",
    "\n",
    "G = nx.Graph()\n",
    "G.add_nodes_from(ingredients_set)\n",
    "\n",
    "for r in recipes.values():\n",
    "    for i in r['ingredients']:\n",
    "        for j in r['ingredients']:\n",
    "            if G.has_edge(i, j):\n",
    "                G[i][j]['weight'] += 1.0\n",
    "            else:\n",
    "                G.add_edge(i, j, {'weight': 1.0})"
   ]
  },
  {
   "cell_type": "code",
   "execution_count": 10,
   "metadata": {
    "collapsed": false
   },
   "outputs": [
    {
     "name": "stdout",
     "output_type": "stream",
     "text": [
      "The average degree of the nodes is 148.807\n",
      "The median of the degree of the nodes is 40\n"
     ]
    }
   ],
   "source": [
    "import numpy as np\n",
    "\n",
    "degree = nx.degree(G, weight='weight')\n",
    "print 'The average degree of the nodes is %.3f' % np.mean(degree.values())\n",
    "print 'The median of the degree of the nodes is %d' % np.median(degree.values())"
   ]
  },
  {
   "cell_type": "markdown",
   "metadata": {},
   "source": [
    "Let's visualize the degrees in a graphical way.\n",
    "\n",
    "First, what are the top 10 ingredients by degree?"
   ]
  },
  {
   "cell_type": "code",
   "execution_count": 11,
   "metadata": {
    "collapsed": false
   },
   "outputs": [
    {
     "name": "stdout",
     "output_type": "stream",
     "text": [
      "Ingredient             Degree\n",
      "-------------------  --------\n",
      "salt                    10386\n",
      "garlic                   5592\n",
      "onions                   5232\n",
      "olive oil                5144\n",
      "water                    4208\n",
      "ground black pepper      3430\n",
      "garlic cloves            3410\n",
      "sugar                    3256\n",
      "butter                   2784\n",
      "pepper                   2766\n"
     ]
    }
   ],
   "source": [
    "from tabulate import tabulate\n",
    "\n",
    "degree = nx.degree(G, weight='weight')\n",
    "data = [(x, degree[x]) for x in sorted(degree, key=degree.get, reverse=True)][:10]\n",
    "print tabulate(data, headers=('Ingredient', 'Degree'))"
   ]
  },
  {
   "cell_type": "markdown",
   "metadata": {
    "collapsed": false
   },
   "source": [
    "It doesn't come as a surprise that the salt is the most used ingredient. All the top 10 are really common ingredients, as expected."
   ]
  },
  {
   "cell_type": "code",
   "execution_count": 12,
   "metadata": {
    "collapsed": false
   },
   "outputs": [],
   "source": [
    "import matplotlib.pylab as plt\n",
    "%matplotlib inline\n",
    "# nx.draw(G)\n",
    "\n",
    "# For graph visualization, we used the\n",
    "# program GEFI, which is faster and interactive."
   ]
  },
  {
   "cell_type": "markdown",
   "metadata": {},
   "source": [
    "# Cuisine types"
   ]
  },
  {
   "cell_type": "markdown",
   "metadata": {},
   "source": [
    "Let's extract the different cuisines mentioned in the recipes we have and start studying them."
   ]
  },
  {
   "cell_type": "code",
   "execution_count": 13,
   "metadata": {
    "collapsed": false
   },
   "outputs": [
    {
     "name": "stdout",
     "output_type": "stream",
     "text": [
      "The available recipes belong to 20 different types of cuisine:\n",
      "irish, mexican, chinese, filipino, vietnamese, moroccan, brazilian, japanese, british, greek, indian, jamaican, french, spanish, russian, cajun_creole, thai, southern_us, korean, italian\n"
     ]
    }
   ],
   "source": [
    "cuisine_types = set()\n",
    "\n",
    "for x in traindata:\n",
    "    cuisine_types.add(x['cuisine'])\n",
    "\n",
    "print \"The available recipes belong to %d different types of cuisine:\" % len(cuisine_types)\n",
    "print ', '.join(cuisine_types)"
   ]
  },
  {
   "cell_type": "markdown",
   "metadata": {
    "collapsed": false
   },
   "source": [
    "The first step in the study of cuisines and its ingredients will be assigning each ingredient to one single cuisine - the one it is a more important part of. Right now, an ingredient that belongs to different recipes might belong to different cuisines as well, if its recipes belong to different cuisines. The goal now is to decide which of those cuisines the ingredient should be assigned to. \n",
    "\n",
    "To achieve this, we propose two methods. Both start assigning the ingredients that appear in recipes of only one cuisine to that cuisine. The difference is in how to classify the _multi-cuisine_ ingredients. Find the explanations as code comments."
   ]
  },
  {
   "cell_type": "code",
   "execution_count": 14,
   "metadata": {
    "collapsed": true
   },
   "outputs": [],
   "source": [
    "# First, add a list to every node with their (maybe multiple) cuisines\n",
    "for n in G.node:\n",
    "    \n",
    "    recipes_of_n = [r for r in recipes.values() if n in r['ingredients']]\n",
    "    G.node[n]['cuisine_freq'] = {c : len([r for r in recipes_of_n if r['cuisine'] == c]) for c in cuisine_types}\n",
    "    \n",
    "    c = set([x['cuisine'] for x in recipes.values() if n in x['ingredients']])\n",
    "    G.node[n]['cuisines'] = c"
   ]
  },
  {
   "cell_type": "code",
   "execution_count": 15,
   "metadata": {
    "collapsed": false
   },
   "outputs": [
    {
     "name": "stdout",
     "output_type": "stream",
     "text": [
      "cuisines: mexican, filipino, chinese, vietnamese, japanese, indian, jamaican, korean, thai\n",
      "\n",
      "frequencies: {u'irish': 0, u'mexican': 2, u'chinese': 35, u'filipino': 5, u'vietnamese': 6, u'spanish': 0, u'japanese': 8, u'moroccan': 0, u'french': 0, u'greek': 0, u'indian': 2, u'jamaican': 1, u'british': 0, u'brazilian': 0, u'russian': 0, u'cajun_creole': 0, u'thai': 4, u'southern_us': 0, u'korean': 15, u'italian': 0}\n"
     ]
    }
   ],
   "source": [
    "print 'cuisines: ' + ', '.join(G.node['soy sauce']['cuisines'])\n",
    "print\n",
    "print 'frequencies:', G.node['soy sauce']['cuisine_freq']"
   ]
  },
  {
   "cell_type": "code",
   "execution_count": 16,
   "metadata": {
    "collapsed": false
   },
   "outputs": [
    {
     "name": "stdout",
     "output_type": "stream",
     "text": [
      "There are 1056 (out of 1817) ingredients that belong to just one cuisine\n"
     ]
    }
   ],
   "source": [
    "# idea A\n",
    "# an ingredient n belongs to the\n",
    "# cuisine C if C is the most common\n",
    "# cuisine among n's neighbors that are\n",
    "# unique of a cuisine\n",
    "\n",
    "\n",
    "# Find the ingredients unique\n",
    "# of one single cuisine\n",
    "assert len([n for n in G.node if len(G.node[n]['cuisines']) == 0]) == 0\n",
    "ingredients_single_cuisine = [n for n in G.node if len(G.node[n]['cuisines']) == 1]\n",
    "\n",
    "print \"There are %d (out of %d) ingredients that belong to just one cuisine\" % (len(ingredients_single_cuisine), len(ingredients_set))"
   ]
  },
  {
   "cell_type": "code",
   "execution_count": 17,
   "metadata": {
    "collapsed": false
   },
   "outputs": [
    {
     "name": "stdout",
     "output_type": "stream",
     "text": [
      "These are some of them\n",
      "----------------------  -----------\n",
      "red cabbage             thai\n",
      "fava beans              italian\n",
      "veget soup mix          spanish\n",
      "peeled deveined shrimp  mexican\n",
      "tandoori spices         indian\n",
      "pancetta                italian\n",
      "vegan parmesan cheese   italian\n",
      "biscuit baking mix      southern_us\n",
      "barley                  korean\n",
      "pork butt               jamaican\n",
      "----------------------  -----------\n"
     ]
    }
   ],
   "source": [
    "print 'These are some of them'\n",
    "print tabulate([(i, list(G.node[i]['cuisines'])[0]) for i in ingredients_single_cuisine][:10])"
   ]
  },
  {
   "cell_type": "code",
   "execution_count": 18,
   "metadata": {
    "collapsed": false
   },
   "outputs": [
    {
     "name": "stdout",
     "output_type": "stream",
     "text": [
      "Nodes with no neighbors that belong to one single cuisine:\n",
      "\n",
      "yellow squash: randomly assigned to -> vietnamese\n",
      "pitted olives: randomly assigned to -> italian\n",
      "corn flour: randomly assigned to -> cajun_creole\n",
      "toasted walnuts: randomly assigned to -> greek\n",
      "breakfast sausages: randomly assigned to -> southern_us\n",
      "rotisserie chicken: randomly assigned to -> mexican\n",
      "smoked trout: randomly assigned to -> italian\n",
      "fillets: randomly assigned to -> cajun_creole\n",
      "2% reduced-fat milk: randomly assigned to -> french\n",
      "pecan halves: randomly assigned to -> british\n",
      "parsley leaves: randomly assigned to -> indian\n",
      "chicken wings: randomly assigned to -> chinese\n",
      "hard-boiled egg: randomly assigned to -> spanish\n",
      "reduced fat milk: randomly assigned to -> southern_us\n",
      "granulated garlic: randomly assigned to -> chinese\n",
      "pearl barley: randomly assigned to -> indian\n"
     ]
    }
   ],
   "source": [
    "# now give a single 'winner' cuisine to all the nodes\n",
    "# (still according to idea A)\n",
    "\n",
    "from collections import Counter\n",
    "import random\n",
    "\n",
    "print 'Nodes with no neighbors that belong to one single cuisine:\\n'\n",
    "for n in G.node:\n",
    "    if len(G.node[n]['cuisines']) == 1:\n",
    "        G.node[n]['single_cuisine_A'] = list(G.node[n]['cuisines'])[0]\n",
    "    else:\n",
    "        l = G.neighbors(n)\n",
    "        #print n, l\n",
    "        #print [G.node[x] for x in l]\n",
    "        cuisines_from_neighbors_of_single_cuisine = [list(G.node[x]['cuisines'])[0] for x in G.neighbors(n) if len(G.node[x]['cuisines']) == 1]\n",
    "\n",
    "        if len(cuisines_from_neighbors_of_single_cuisine) == 0:\n",
    "            most_common = random.choice(list(G.node[n]['cuisines']))\n",
    "            print '%s: randomly assigned to -> %s' % (n, most_common)\n",
    "        else:\n",
    "            count = Counter(cuisines_from_neighbors_of_single_cuisine)\n",
    "            most_common = count.most_common(1)[0][0]\n",
    "\n",
    "        G.node[n]['single_cuisine_A'] = most_common        "
   ]
  },
  {
   "cell_type": "code",
   "execution_count": 19,
   "metadata": {
    "collapsed": false
   },
   "outputs": [
    {
     "name": "stdout",
     "output_type": "stream",
     "text": [
      "soy sauce is...\n",
      "{u'irish': 0, u'mexican': 2, u'chinese': 35, u'filipino': 5, u'vietnamese': 6, u'spanish': 0, u'japanese': 8, u'moroccan': 0, u'french': 0, u'greek': 0, u'indian': 2, u'jamaican': 1, u'british': 0, u'brazilian': 0, u'russian': 0, u'cajun_creole': 0, u'thai': 4, u'southern_us': 0, u'korean': 15, u'italian': 0}\n",
      "According to idea A: chinese\n",
      "According to idea B: chinese\n"
     ]
    }
   ],
   "source": [
    "# idea B: an ingredient belongs\n",
    "# to the cuisine in which it appears\n",
    "# in a higher ammount of recipes \n",
    "\n",
    "for n in G.node:\n",
    "    most_common = max(G.node[n]['cuisine_freq'], key=G.node[n]['cuisine_freq'].get)\n",
    "    G.node[n]['single_cuisine_B'] = most_common\n",
    "\n",
    "print 'soy sauce is...'\n",
    "print G.node['soy sauce']['cuisine_freq']\n",
    "\n",
    "print 'According to idea A:', G.node['soy sauce']['single_cuisine_A']\n",
    "print 'According to idea B:', G.node['soy sauce']['single_cuisine_B']"
   ]
  },
  {
   "cell_type": "code",
   "execution_count": 20,
   "metadata": {
    "collapsed": false
   },
   "outputs": [],
   "source": [
    "# Let's see some results of that classification!\n",
    "\n",
    "def ingredients_of_cuisine(G, c):\n",
    "    return ([i for i in G.node if G.node[i]['single_cuisine_A'] == c], [i for i in G.node if G.node[i]['single_cuisine_B'] == c])"
   ]
  },
  {
   "cell_type": "code",
   "execution_count": 21,
   "metadata": {
    "collapsed": false
   },
   "outputs": [
    {
     "name": "stdout",
     "output_type": "stream",
     "text": [
      "short-grain rice, low sodium chicken broth, gari, mustard greens, sticky rice, tofu, udon, Shaoxing wine, chinese cabbage, dressing, cremini mushrooms, jicama, leeks, fresh mint, stock\n",
      "minced onion, sirloin, shiitake, top round steak, mixed greens, panko breadcrumbs, chopped walnuts, caster, steak, maida flour, club soda\n"
     ]
    }
   ],
   "source": [
    "a, b = ingredients_of_cuisine(G, 'japanese')\n",
    "print ', '.join(set(a) - set(b))\n",
    "\n",
    "print ', '.join(set(b) - set(a))"
   ]
  },
  {
   "cell_type": "markdown",
   "metadata": {},
   "source": [
    "The previous lists of ingredients shows that the method A assigns ingredients like _Shaoxing wine_ and _chinese cabbage_ as japanese, but they're not japanese according to method B. Let's take a look at that cabbage."
   ]
  },
  {
   "cell_type": "code",
   "execution_count": 22,
   "metadata": {
    "collapsed": false
   },
   "outputs": [
    {
     "name": "stdout",
     "output_type": "stream",
     "text": [
      "japanese\n",
      "chinese\n"
     ]
    }
   ],
   "source": [
    "print G.node['chinese cabbage']['single_cuisine_A']\n",
    "print G.node['chinese cabbage']['single_cuisine_B']"
   ]
  },
  {
   "cell_type": "markdown",
   "metadata": {},
   "source": [
    "The method B assings it to chinese cuisine, and the same for Shaoxing wine. These ingredients are indeed chinese. When coming up with the two different methods, we expected that method B might be closer to what we wanted. Method A depends on the number of single-cuisine neighbors, which can be small and not a good heuristic of a node's real cuisine. Moreover, it introduces a random factor for nodes that don't have any single-cuisine nodes as neighbors.\n",
    "\n",
    "For these reasons and after seeing the japanese example, we will proceed with the idea B as the chosen method to decide a node's cuisine."
   ]
  },
  {
   "cell_type": "code",
   "execution_count": 23,
   "metadata": {
    "collapsed": false
   },
   "outputs": [
    {
     "name": "stdout",
     "output_type": "stream",
     "text": [
      "[54, 357, 171, 30, 45, 29, 18, 68, 41, 42, 144, 28, 112, 29, 15, 62, 59, 129, 34, 350]\n"
     ]
    },
    {
     "data": {
      "image/png": "[encoded data removed]",
      "text/plain": [
       "<matplotlib.figure.Figure at 0x7faa0dcedc10>"
      ]
     },
     "metadata": {},
     "output_type": "display_data"
    },
    {
     "name": "stdout",
     "output_type": "stream",
     "text": [
      "set([u'irish', u'mexican', u'chinese', u'filipino', u'vietnamese', u'moroccan', u'brazilian', u'japanese', u'british', u'greek', u'indian', u'jamaican', u'french', u'spanish', u'russian', u'cajun_creole', u'thai', u'southern_us', u'korean', u'italian'])\n"
     ]
    }
   ],
   "source": [
    "import matplotlib.pyplot as plt\n",
    "%matplotlib inline\n",
    "plt.close('all')\n",
    "\n",
    "print [len([n for n in G if G.node[n]['single_cuisine_B'] == c]) for c in cuisine_types]\n",
    "plt.figure(figsize=(10,5))\n",
    "plt.bar(range(len(cuisine_types)), [len(ingredients_of_cuisine(G, c)[1]) for c in cuisine_types])\n",
    "plt.title('Number of ingredients per cuisine')\n",
    "plt.xticks(range(len(cuisine_types)), [c[:5] for c in cuisine_types], rotation=20)\n",
    "plt.show()\n",
    "print cuisine_types"
   ]
  },
  {
   "cell_type": "markdown",
   "metadata": {
    "collapsed": true
   },
   "source": [
    "We see that it's very irregular, and mexican and italian have **ten times more ingredients** than brazilian or spanish.\n",
    "\n",
    "We are affraid that this is just a characterisitic of our dataset and that there isn't much that we can do. To check that it's not due to our assignment of ingredients to a single cuisine we'll plot the number of recipes that we have per cuisine."
   ]
  },
  {
   "cell_type": "code",
   "execution_count": 24,
   "metadata": {
    "collapsed": false
   },
   "outputs": [
    {
     "name": "stdout",
     "output_type": "stream",
     "text": [
      "[54, 357, 171, 30, 45, 29, 18, 68, 41, 42, 144, 28, 112, 29, 15, 62, 59, 129, 34, 350]\n"
     ]
    },
    {
     "data": {
      "image/png": "[encoded data removed]",
      "text/plain": [
       "<matplotlib.figure.Figure at 0x7faa0e501e50>"
      ]
     },
     "metadata": {},
     "output_type": "display_data"
    },
    {
     "name": "stdout",
     "output_type": "stream",
     "text": [
      "set([u'irish', u'mexican', u'chinese', u'filipino', u'vietnamese', u'moroccan', u'brazilian', u'japanese', u'british', u'greek', u'indian', u'jamaican', u'french', u'spanish', u'russian', u'cajun_creole', u'thai', u'southern_us', u'korean', u'italian'])\n"
     ]
    }
   ],
   "source": [
    "plt.close('all')\n",
    "\n",
    "print [len([n for n in G if G.node[n]['single_cuisine_B'] == c]) for c in cuisine_types]\n",
    "plt.figure(figsize=(10,5))\n",
    "plt.bar(range(len(cuisine_types)), [len([r for r in recipes.values() if r['cuisine'] == c]) for c in cuisine_types])\n",
    "plt.title('Number of ingredients per cuisine')\n",
    "plt.xticks(range(len(cuisine_types)), [c[:5] for c in cuisine_types], rotation=20)\n",
    "plt.show()\n",
    "print cuisine_types"
   ]
  },
  {
   "cell_type": "markdown",
   "metadata": {},
   "source": [
    "We see that the distribution of the ammount of recipes follows a similar pattern to the ammount of ingredients per cuisine so we can't say our assignment was farfetched."
   ]
  },
  {
   "cell_type": "markdown",
   "metadata": {},
   "source": [
    "# Network indicators, node relevance\n",
    "\n",
    "We want to find what nodes are more relevant in the network, specially for each different cuisine. The goal is to find the most representative ingredients of every cuisine. To achieve that, we will compile a set of indicators that are candidates to give us useful information about nodes' relevance inside their community's subgraph.\n",
    "\n",
    "One of the indicators will the the **TF-IDF** so we start creating the algorithm. The term frequency will show **how common is an ingredient within its cuisine**. The inverse document frequency will consider the different communities as documents, so if an ingredient belongs to many different cuisines (e.g. salt), its IDF will be lower."
   ]
  },
  {
   "cell_type": "code",
   "execution_count": 25,
   "metadata": {
    "collapsed": true
   },
   "outputs": [],
   "source": [
    "from __future__ import division\n",
    "import math\n",
    "\n",
    "def tf(ingredient, cuisine):\n",
    "    # TODO: cuisine might just be inferred from the ingredient? \n",
    "    #       (by looking at G.node[ingredient][single_cuisine_B])\n",
    "    # cuisine = G.node[ingredient]['single_cuisine_B']\n",
    "    \n",
    "    # TF(t) = (Number of times term t appears in a document) / \n",
    "    #            (Total number of terms in the document)\n",
    "    preferred_indicator = 'degree_cent'\n",
    "    \n",
    "    recipes_cuisine = [r for r in recipes.values() if r['cuisine'] == cuisine]\n",
    "    \n",
    "    # number of *recipes* of this cuisine\n",
    "    appearances = [r for r in recipes_cuisine if ingredient in r['ingredients']]\n",
    "    \n",
    "    return len(appearances) / len(recipes_cuisine)\n",
    "    \n",
    "    n = len(recipes_cuisine)\n",
    "    #return info_cusines[cuisine][preferred_indicator][ingredient] / n\n",
    "\n",
    "\n",
    "def idf(ingredient, cuisines):\n",
    "    ''' Return the Inverse Document Frequency of ingredient'''\n",
    "    \n",
    "    return math.log(len(recipes) / \n",
    "                    len(cuisines), 5)\n",
    "    \n",
    "def tfidf(ingredient, cuisine, cuisines):\n",
    "    return tf(ingredient, cuisine) * idf(ingredient, cuisines)"
   ]
  },
  {
   "cell_type": "code",
   "execution_count": 26,
   "metadata": {
    "collapsed": false
   },
   "outputs": [
    {
     "name": "stdout",
     "output_type": "stream",
     "text": [
      "0.522388059701\n",
      "2.92681728525\n",
      "1.52893440274\n",
      "1.56257778733\n"
     ]
    },
    {
     "data": {
      "text/plain": [
       "{u'chinese',\n",
       " u'filipino',\n",
       " u'indian',\n",
       " u'jamaican',\n",
       " u'japanese',\n",
       " u'korean',\n",
       " u'mexican',\n",
       " u'thai',\n",
       " u'vietnamese'}"
      ]
     },
     "execution_count": 26,
     "metadata": {},
     "output_type": "execute_result"
    }
   ],
   "source": [
    "# Examples to test the TF-IDF\n",
    "print tf('soy sauce', 'chinese')\n",
    "print idf('soy sauce', G.node['soy sauce']['cuisines'])\n",
    "print tfidf('soy sauce', 'chinese', G.node['soy sauce']['cuisines'])\n",
    "print tfidf('salt', 'jamaican', G.node['salt']['cuisines'])\n",
    "G.node['soy sauce']['cuisines']"
   ]
  },
  {
   "cell_type": "code",
   "execution_count": 27,
   "metadata": {
    "collapsed": false
   },
   "outputs": [],
   "source": [
    "# Let's compute the following indicators for the nodes of G\n",
    "indicators = {'degree', 'betweenness_cent', 'degree_cent', 'eigen_cent', 'tf-idf'}\n",
    "\n",
    "# Dict of dicts so that\n",
    "# info_cuisines['thai']['degree']\n",
    "# holds the degrees of the thai subgraph\n",
    "info_cusines = dict.fromkeys(cuisine_types)\n",
    "for c in info_cusines:\n",
    "    info_cusines[c] = dict.fromkeys(indicators)\n",
    "\n",
    "# info_cusines['thai']['degree'] = {'salt': 23, 'soy sauce': 79}\n",
    "# info_cusines['thai']"
   ]
  },
  {
   "cell_type": "code",
   "execution_count": 28,
   "metadata": {
    "collapsed": false
   },
   "outputs": [
    {
     "name": "stdout",
     "output_type": "stream",
     "text": [
      "Working with irish: 54 nodes. degree, betweenness_cent, degree_cent, eigen_cent tf-idf\n",
      "Working with mexican: 357 nodes. degree, betweenness_cent, degree_cent, eigen_cent tf-idf\n",
      "Working with filipino: 30 nodes. degree, betweenness_cent, degree_cent, eigen_cent tf-idf\n",
      "Working with chinese: 171 nodes. degree, betweenness_cent, degree_cent, eigen_cent tf-idf\n",
      "Working with vietnamese: 45 nodes. degree, betweenness_cent, degree_cent, eigen_cent tf-idf\n",
      "Working with spanish: 29 nodes. degree, betweenness_cent, degree_cent, eigen_cent tf-idf\n",
      "Working with japanese: 68 nodes. degree, betweenness_cent, degree_cent, eigen_cent tf-idf\n",
      "Working with moroccan: 29 nodes. degree, betweenness_cent, degree_cent, eigen_cent tf-idf\n",
      "Working with french: 112 nodes. degree, betweenness_cent, degree_cent, eigen_cent tf-idf\n",
      "Working with greek: 42 nodes. degree, betweenness_cent, degree_cent, eigen_cent tf-idf\n",
      "Working with indian: 144 nodes. degree, betweenness_cent, degree_cent, eigen_cent tf-idf\n",
      "Working with jamaican: 28 nodes. degree, betweenness_cent, degree_cent, eigen_cent tf-idf\n",
      "Working with british: 41 nodes. degree, betweenness_cent, degree_cent, eigen_cent tf-idf\n",
      "Working with brazilian: 18 nodes. degree, betweenness_cent, degree_cent, eigen_cent tf-idf\n",
      "Working with russian: 15 nodes. degree, betweenness_cent, degree_cent, eigen_cent tf-idf\n",
      "Working with cajun_creole: 62 nodes. degree, betweenness_cent, degree_cent, eigen_cent tf-idf\n",
      "Working with thai: 59 nodes. degree, betweenness_cent, degree_cent, eigen_cent tf-idf\n",
      "Working with southern_us: 129 nodes. degree, betweenness_cent, degree_cent, eigen_cent tf-idf\n",
      "Working with korean: 34 nodes. degree, betweenness_cent, degree_cent, eigen_cent tf-idf\n",
      "Working with italian: 350 nodes. degree, betweenness_cent, degree_cent, eigen_cent tf-idf\n"
     ]
    }
   ],
   "source": [
    "nodes_cuisine = dict()\n",
    "\n",
    "for c in info_cusines:\n",
    "    print 'Working with %s:' % c,\n",
    "    \n",
    "    nodes_cuisine[c] = [n for n in G if G.node[n]['single_cuisine_B'] == c]\n",
    "    print '%d nodes.' % len(nodes_cuisine[c]),\n",
    "    csubgraph = G.subgraph(nodes_cuisine[c])\n",
    "    \n",
    "    print 'degree,',\n",
    "    # info_cusines[c]['degree'] = nx.degree(G, nbunch=nodes_cuisine, weight='weight')\n",
    "    info_cusines[c]['degree'] = nx.degree(csubgraph, weight='weight')\n",
    "        \n",
    "    print 'betweenness_cent,', \n",
    "    info_cusines[c]['betweenness_cent'] = nx.betweenness_centrality(csubgraph, weight='weight')\n",
    "    \n",
    "    print 'degree_cent,',\n",
    "    info_cusines[c]['degree_cent'] = nx.degree_centrality(csubgraph)\n",
    "    \n",
    "    print 'eigen_cent',\n",
    "    try:\n",
    "        info_cusines[c]['eigen_cent']  = nx.eigenvector_centrality(csubgraph, max_iter=700)\n",
    "    except nx.NetworkXError as e:\n",
    "        print 'Couldnt compute eigen_cent for %s: %s %s' % (c, str(type(e)), str(e))\n",
    "        \n",
    "    print 'tf-idf'\n",
    "    info_cusines[c]['tf-idf'] = {n: tfidf(n, c, G.node[n]['cuisines']) for n in nodes_cuisine[c]}\n"
   ]
  },
  {
   "cell_type": "markdown",
   "metadata": {},
   "source": [
    "To visualize the results, we'll generate a table with the higher values of each indicator and save it as a text file."
   ]
  },
  {
   "cell_type": "code",
   "execution_count": 29,
   "metadata": {
    "collapsed": false
   },
   "outputs": [
    {
     "name": "stdout",
     "output_type": "stream",
     "text": [
      "degree\n",
      "tf-idf\n",
      "betweenness_cent\n",
      "degree_cent\n",
      "eigen_cent\n",
      "Done.\n"
     ]
    }
   ],
   "source": [
    "tables = ''\n",
    "\n",
    "for ind in indicators:\n",
    "    print ind\n",
    "    tables += '\\n\\n\\n' + ind + ': \\n\\n'\n",
    "    \n",
    "    data = [[i+1] + [sorted(info_cusines[c][ind], key=info_cusines[c][ind].get, reverse=True)[i] for c in list(cuisine_types)] for i in range(10)]\n",
    "    \n",
    "    tables += tabulate(data, headers=list(cuisine_types))\n",
    "    \n",
    "with io.open('./indicator_results.txt', 'w', encoding='utf-8') as f:\n",
    "    f.write(tables)\n",
    "    \n",
    "print 'Done.'"
   ]
  },
  {
   "cell_type": "code",
   "execution_count": 30,
   "metadata": {
    "collapsed": false,
    "scrolled": true
   },
   "outputs": [
    {
     "name": "stdout",
     "output_type": "stream",
     "text": [
      "68\n",
      "1817\n",
      "1817\n",
      "                           degree    degree_cent\n",
      "-----------------------  --------  -------------\n",
      "panko breadcrumbs              26      0.119403\n",
      "extra large eggs               14      0.104478\n",
      "Himalayan salt                 14      0.119403\n",
      "ramen noodles                  14      0.104478\n",
      "caster                         14      0.104478\n",
      "karashi                        14      0.119403\n",
      "lemon cucumber                 14      0.119403\n",
      "tea bags                       12      0.0895522\n",
      "green tea powder               10      0.0895522\n",
      "mixed greens                   10      0.0746269\n",
      "miso                            6      0.0447761\n",
      "sushi rice                      6      0.0447761\n",
      "miso paste                      6      0.0597015\n",
      "silken tofu                     6      0.0597015\n",
      "boneless chicken thighs         6      0.0597015\n",
      "fresh asparagus                 6      0.0597015\n",
      "dashi kombu                     4      0.0447761\n",
      "matcha green tea powder         4      0.0447761\n",
      "maida flour                     4      0.0298507\n",
      "club soda                       4      0.0298507\n"
     ]
    }
   ],
   "source": [
    "# Understanding the difference between degree and degree_centrality\n",
    "\n",
    "l =  info_cusines['japanese']\n",
    "print len(l['degree_cent'].keys())\n",
    "nodes_jap = [n for n in G.node if G.node[n]['single_cuisine_B']]\n",
    "print len(nodes_jap)\n",
    "print len(G.subgraph(nodes_jap).node)\n",
    "data = [(i, l['degree'][i], l['degree_cent'][i]) for i in l['degree'].keys()[:20]]\n",
    "print tabulate(sorted(data, key=lambda x: x[1], reverse=True), headers=('degree', 'degree_cent'))"
   ]
  },
  {
   "cell_type": "markdown",
   "metadata": {},
   "source": [
    "Let's dive deeper into the meaning of the computed indicators. First, what's the **difference between degree and degree centrality**?\n",
    "\n",
    "Degree centrality of a node n is degree(n)/number_of_nodes, where degree(n) is the _simple degree_ -**ignoring the weights!**\n",
    "Let's take as an example two nodes that have the same degree. Degree centrality is giving more importance to the ingredient that is connected to a higher number different ingredients, over an ingredient that shares many recipes with a fewer number of ingredients. That explains the differences between these two rankings.\n",
    "\n",
    "**Betweenness centrality**: as we know betweenness centrality quantifies the number of times a node acts as a bridge along the shortest path between two other nodes. In our network, it quantifies the number of times an ingredient is on the way between two ingredients, if we tried to navigate between ingredients following the edges denoted by the shared recipes. Even if it measures the centrality of a node, it doesn't have a clear physical meaning in our dataset.\n",
    "\n",
    "**Eigenvector centrality** assigns relative scores to all nodes in the network based on the concept that connections to high-scoring nodes contribute more to the score of the node in question than equal connections to low-scoring nodes. That is, being connected to a hub or a node that is close to a hub gives a high score. Again, it's not a bad measure of centrality but it doesn't carry a strong stand-alone meaning. \n",
    "\n",
    "Examining the generated text file, we see that there are subtle differences in the top ten of values for the different indicators. The difference though, is mainly the order of the ingredients, but in each cuisine we see that the ingredients in the different top 10s are almost the same, so we'll consider them all good to get us to our goal. These rankings let us, as we hoped, see the most important ingredients of each cuisine!"
   ]
  },
  {
   "cell_type": "markdown",
   "metadata": {},
   "source": [
    "# Communities"
   ]
  },
  {
   "cell_type": "markdown",
   "metadata": {},
   "source": [
    "Our next goal is to analyse the communities present in our network. Our first hypotheses is that the cuisines are communities that show the modularity of the network. We will start by computing the modularity of the cuisine partition. We'll then find the best partition with Louvain's method and then compare the obtained modularity -which is the _optimal_ since the _best partition_ is the one that maximises the modularity."
   ]
  },
  {
   "cell_type": "code",
   "execution_count": 31,
   "metadata": {
    "collapsed": true
   },
   "outputs": [],
   "source": [
    "import community as cm\n",
    "\n",
    "#first compute the best partition\n",
    "louvain_partition = cm.best_partition(G)"
   ]
  },
  {
   "cell_type": "code",
   "execution_count": 32,
   "metadata": {
    "collapsed": false
   },
   "outputs": [
    {
     "name": "stdout",
     "output_type": "stream",
     "text": [
      "The modularity for the louvain partition is 0.285239.\n",
      "The modularity for the cuisine partition is 0.209728.\n",
      "The modularity for a partition found randomly is 0.070348.\n"
     ]
    }
   ],
   "source": [
    "# We use the modularity function to calculate the louvain modularity\n",
    "print \"The modularity for the louvain partition is %f.\" % cm.modularity(louvain_partition, G)\n",
    "\n",
    "cuisine_partition = dict((n, G.node[n]['single_cuisine_B']) for n in G.node)\n",
    "print \"The modularity for the cuisine partition is %f.\" % cm.modularity(cuisine_partition, G)\n",
    "\n",
    "random_partition = dict((n, random.choice(range(20))) for n in G.node)\n",
    "print \"The modularity for a partition found randomly is %f.\" % cm.modularity(random_partition, G)"
   ]
  },
  {
   "cell_type": "markdown",
   "metadata": {},
   "source": [
    "We see that the lovain partition achieves a 36% higher modularity than the cuisines, so we found a slightly better way to group the ingredients than the cuisine they belong to. According to Louvain's heuristics, of course. The modularity of the cuisine partition isn't low enough to say it's a bad partition, we see that it indeed shows part of the community structure present in the network. It is, certainly, much higher than the modularity of a random partition, which doesn't come as a surprise.\n",
    "\n",
    "How is the Louvain partition we found?"
   ]
  },
  {
   "cell_type": "code",
   "execution_count": 33,
   "metadata": {
    "collapsed": false
   },
   "outputs": [
    {
     "name": "stdout",
     "output_type": "stream",
     "text": [
      "set([0, 1, 2, 3, 4, 5, 6, 7, 8, 9, 10, 11, 12, 13, 14])\n"
     ]
    }
   ],
   "source": [
    "components_louvain = set(louvain_partition.values())\n",
    "print components_louvain"
   ]
  },
  {
   "cell_type": "markdown",
   "metadata": {},
   "source": [
    "Let's generate a Confusion matrix to see the elements shared between the communities found by the two different methods."
   ]
  },
  {
   "cell_type": "code",
   "execution_count": 34,
   "metadata": {
    "collapsed": true
   },
   "outputs": [],
   "source": [
    "Dmat = dict.fromkeys(cuisine_types)\n",
    "\n",
    "for i, c in enumerate(Dmat):\n",
    "    Dmat[c] = []\n",
    "    for j in components_louvain:\n",
    "        Dmat[c].append(len([x for x in G.nodes_iter() if cuisine_partition[x] == c and louvain_partition[x] == j]))"
   ]
  },
  {
   "cell_type": "code",
   "execution_count": 35,
   "metadata": {
    "collapsed": false
   },
   "outputs": [
    {
     "name": "stdout",
     "output_type": "stream",
     "text": [
      "  irish    mexican    filipino    chinese    vietnamese    spanish    japanese    moroccan    french    greek    indian    jamaican    british    brazilian    russian    cajun_creole    thai    southern_us    korean    italian\n",
      "-------  ---------  ----------  ---------  ------------  ---------  ----------  ----------  --------  -------  --------  ----------  ---------  -----------  ---------  --------------  ------  -------------  --------  ---------\n",
      "      5         32           0          3             1          8           2           9        42       23         6           2          5            2          0               6       5             10         1        215\n",
      "     16         42          10         19             5          5           4          11         4        8       113          19          0            4          2               9       3              6         1         14\n",
      "      1        224           0          8             1          0           1           0         0        1        10           2          0            7          0               8       2              4         0         13\n",
      "      2         16           8        128            34          3          48           0         1        1         4           0          0            2          1               2      45              8        32          5\n",
      "     19         19           4         10             1         10           8           7        51        6         8           0         30            2          6               7       2             76         0         59\n",
      "      5         12           0          2             1          0           1           0         3        1         1           1          0            0          4              29       0             17         0         19\n",
      "      0          0           0          0             0          0           0           0         0        0         0           0          0            0          0               0       0              0         0          2\n",
      "      0          1           0          0             0          0           1           0         0        0         0           0          6            0          0               0       0              0         0          0\n",
      "      0          3           0          0             0          0           0           0         0        0         0           0          0            0          0               0       0              0         0          0\n",
      "      0          0           0          0             0          0           2           0         0        0         0           0          0            0          0               0       0              0         0          0\n",
      "      0          8           6          1             0          3           1           1         2        1         2           0          0            0          0               0       0              2         0         23\n",
      "      0          0           2          0             1          0           0           0         9        0         0           0          0            1          2               1       0              6         0          0\n",
      "      6          0           0          0             1          0           0           1         0        1         0           0          0            0          0               0       0              0         0          0\n",
      "      0          0           0          0             0          0           0           0         0        0         0           4          0            0          0               0       0              0         0          0\n",
      "      0          0           0          0             0          0           0           0         0        0         0           0          0            0          0               0       2              0         0          0\n"
     ]
    }
   ],
   "source": [
    "with io.open('./confusion_matrix.txt', 'w', encoding='utf-8') as f:\n",
    "    f.write(tabulate(Dmat, headers=\"keys\"))\n",
    "\n",
    "\n",
    "print tabulate(Dmat, headers=\"keys\")"
   ]
  },
  {
   "cell_type": "markdown",
   "metadata": {},
   "source": [
    "(We recommend opening the generated 'confusion_matrix.txt' rather than trying to read the table from the previous code output)\n",
    "\n",
    "We can observe a few interesting things on the confusion matrix. The Louvain partition **contains 15 communities**. That is 5 less communities than cuisine types we have, so cuisine types have been merged to form broader communities. As a perfect example let's take a look at the 4th Louvain community (4th row of the confusion matrix). It has a big ammount of chinese ingredients, followed by many japanese, thai, vietnamese and korean ingredients. In fact, we see that the _asian cuisine_ is one single community according to Louvain's partition! The nodes belonging to asian types of cuisine aren't _separated_ enough between each other too be considered different communities according to Lovuain's heuristics. \n",
    "\n",
    "Similar effects can be seen in other rows of the confusion matrix, like the 1st one, that contains a high number of italian ingredients but also french and mexican, suggesting that there are many common ingredients between recipes of those cuisines."
   ]
  },
  {
   "cell_type": "markdown",
   "metadata": {},
   "source": [
    "# Recipe name generator\n",
    "\n",
    "The dataset we've been using has allowed us so far to find the most common ingredients, the most representative ingredients of the different cuisines, to check that cuisines form communities, and to find a partition better than the cuisines. What else could we achieve with it? One could think of comparing recipe names across cuisines, or to build a reccommender of a recipe given certain ingredients -or another recipe. But for some of these applications we would do better if the dataset included the recipe names. Note that we have the recipes as a list of ingredients but we don't know their name... \n",
    "\n",
    "That gave us the idea of trying to generate a name ourselves. We'll build a function that comes up with a name for the given recipe. We don't expect great results, but it is a good way of applying the measures and indicators we've computed so far and to see how useful they are in overcoming the expected inconvenients of our limited method. Note that we don't have the recipe preparation steps either so we can't really know how are the ingredients combined. We'll also add a touch of humor to the generated names. They will consist basically of two **important** ingredients of the given recipe, joined by some preposition and embellished by -often pompous- adjectives."
   ]
  },
  {
   "cell_type": "code",
   "execution_count": 36,
   "metadata": {
    "collapsed": true
   },
   "outputs": [],
   "source": [
    "def recipe_name(r):\n",
    "    '''Comes up with a recipe name for r'''\n",
    "    \n",
    "    prepositions = ['filled with','and','with','in','above','under','beneath','into','on','with a touch of','of','between','beside','inside','from']\n",
    "    adjectives   = ['amazing', 'disgusting', 'smelly', 'stinky', 'nasty', 'burned', 'classic', 'tasty', 'cool','crispy', 'creamy', 'delicious', 'fresh', 'freezing', 'gorgeous', 'healthy', 'icy', 'light', 'low-fat', 'marinated', 'spicy', 'minty', 'mild', 'natural', 'oily', 'salty', 'soporific', 'flavourless', 'seasoned', 'smoked', 'silky', 'sprinkled', 'spongy', 'succulent', 'sweet', 'syrupy', 'tender', 'terrific', 'tough', 'traditional','waxy', 'yummy', 'wonderful', 'yucky','zingy']\n",
    "\n",
    "    \n",
    "    cuisine = r['cuisine']\n",
    "    # tf_idf = [(i, tfidf(i, cuisine, G.node[i]['cuisines'])) for i in r['ingredients']]\n",
    "    degree_cent = [(i, info_cusines[cuisine]['degree_cent'][i]) for i in r['ingredients'] if G.node[i]['single_cuisine_B'] == cuisine]\n",
    "    \n",
    "    if len(degree_cent) == 0:\n",
    "        degree_cent = [(i, info_cusines[G.node[i]['single_cuisine_B']]['degree_cent'][i]) for i in r['ingredients']]\n",
    "\n",
    "    ranking_ing = sorted(degree_cent, key=lambda x: x[1], reverse=True)\n",
    "    names_ranking = [a for a, b in ranking_ing]\n",
    "    \n",
    "    #print tabulate(ranking_ing)\n",
    "    \n",
    "    if len(names_ranking) < 2:\n",
    "        name = random.choice(adjectives) + ' ' + names_ranking[0]\n",
    "    else:\n",
    "        ingredient1 = random.choice(names_ranking[1:])\n",
    "        ingredient2 = names_ranking[0]\n",
    "        name = ' '.join([random.choice(adjectives), ingredient1, random.choice(prepositions), ingredient2])\n",
    "    return name"
   ]
  },
  {
   "cell_type": "markdown",
   "metadata": {},
   "source": [
    "After a few different tries, we decide to stick with the degree centrality. The tf-idf yielded some interesting results as well but it gave a lot of importance to very common nodes. See a few examples of resulting names:"
   ]
  },
  {
   "cell_type": "code",
   "execution_count": 37,
   "metadata": {
    "collapsed": false
   },
   "outputs": [
    {
     "name": "stdout",
     "output_type": "stream",
     "text": [
      "{u'cuisine': u'british', u'id': 7473, u'ingredients': [u'demerara sugar', u'egg whites', u'fruit', u'butter', u'dried currants', u'frozen pastry puff sheets', u'mixed spice', u'white sugar']}\n",
      "wonderful fruit with dried currants\n"
     ]
    }
   ],
   "source": [
    "r = recipes[45193]\n",
    "r = random.choice(recipes.values())\n",
    "print r\n",
    "print recipe_name(r)"
   ]
  },
  {
   "cell_type": "code",
   "execution_count": 38,
   "metadata": {
    "collapsed": false
   },
   "outputs": [
    {
     "name": "stdout",
     "output_type": "stream",
     "text": [
      "smoked pickapeppa sauce above bread crumbs\n",
      "disgusting red beets into dill\n",
      "succulent arborio rice inside ground black pepper\n",
      "terrific cilantro leaves beside chili powder\n",
      "classic fontina with a touch of grated parmesan cheese\n"
     ]
    }
   ],
   "source": [
    "for i in range(5):\n",
    "    r = random.choice(recipes.values())\n",
    "    #print 'Ingredients: ' + ', '.join(r['ingredients'])\n",
    "    print '%s' % recipe_name(r)"
   ]
  },
  {
   "cell_type": "markdown",
   "metadata": {},
   "source": [
    "As we said, it's a very naïve method but the results are satisfactory enough. By chosing a random ingredient plus the one with greatest degree centrality of the recipe cuisine we try to minimise the generation of names like _salt with pepper_. "
   ]
  },
  {
   "cell_type": "code",
   "execution_count": null,
   "metadata": {
    "collapsed": true
   },
   "outputs": [],
   "source": []
  }
 ],
 "metadata": {
  "anaconda-cloud": {},
  "kernelspec": {
   "display_name": "Python [conda root]",
   "language": "python",
   "name": "conda-root-py"
  },
  "language_info": {
   "codemirror_mode": {
    "name": "ipython",
    "version": 2
   },
   "file_extension": ".py",
   "mimetype": "text/x-python",
   "name": "python",
   "nbconvert_exporter": "python",
   "pygments_lexer": "ipython2",
   "version": "2.7.12"
  }
 },
 "nbformat": 4,
 "nbformat_minor": 1
}
