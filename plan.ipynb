{
 "cells": [
  {
   "cell_type": "markdown",
   "metadata": {},
   "source": [
    "# IDEAS"
   ]
  },
  {
   "cell_type": "markdown",
   "metadata": {},
   "source": [
    "## Communities\n",
    "\n",
    "- Consider every type of cuisine as a community, assign every ingredient to a community\n",
    "- Extract communities automatically with Louvain\n",
    "- Compare the top (UNIQUE*) ingredients of each community and see if Louvain communities are similar to the types of cuisine. \n",
    "\n",
    "\n",
    "\\* We'll ignore the ingredients that are super common in all the cuisines."
   ]
  },
  {
   "cell_type": "markdown",
   "metadata": {},
   "source": [
    "## Centrality\n",
    "\n",
    "- Betweenness\n",
    "- Eigenvector centrality\n",
    "- Degree centrality\n",
    "\n",
    "Do it for the global network and for each type of cuisine, see what they tell us of the different types."
   ]
  },
  {
   "cell_type": "markdown",
   "metadata": {},
   "source": [
    "## Other ideas\n",
    "\n",
    "- Ranking of most representative ingredients per type of cuisine\n",
    "- Study the sentiment of twits mentioning each type of cuisine\n",
    "- Come up with a recipe name given its ingredients (Important: we need key ingredients)\n",
    "- Experimental: Create new recipes"
   ]
  },
  {
   "cell_type": "markdown",
   "metadata": {},
   "source": [
    "## Video\n",
    "\n"
   ]
  }
 ],
 "metadata": {
  "anaconda-cloud": {},
  "kernelspec": {
   "display_name": "Python [conda root]",
   "language": "python",
   "name": "conda-root-py"
  },
  "language_info": {
   "codemirror_mode": {
    "name": "ipython",
    "version": 2
   },
   "file_extension": ".py",
   "mimetype": "text/x-python",
   "name": "python",
   "nbconvert_exporter": "python",
   "pygments_lexer": "ipython2",
   "version": "2.7.12"
  }
 },
 "nbformat": 4,
 "nbformat_minor": 1
}
